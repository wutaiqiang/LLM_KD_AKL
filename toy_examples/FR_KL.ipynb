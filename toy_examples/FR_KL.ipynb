{
 "cells": [
  {
   "cell_type": "code",
   "execution_count": 1,
   "id": "80ea59c5",
   "metadata": {},
   "outputs": [
    {
     "data": {
      "image/png": "[encoded data removed]",
      "text/plain": [
       "<Figure size 432x288 with 1 Axes>"
      ]
     },
     "metadata": {
      "needs_background": "light"
     },
     "output_type": "display_data"
    },
    {
     "data": {
      "image/png": "[encoded data removed]",
      "text/plain": [
       "<Figure size 432x288 with 1 Axes>"
      ]
     },
     "metadata": {
      "needs_background": "light"
     },
     "output_type": "display_data"
    },
    {
     "data": {
      "image/png": "[encoded data removed]",
      "text/plain": [
       "<Figure size 432x288 with 1 Axes>"
      ]
     },
     "metadata": {
      "needs_background": "light"
     },
     "output_type": "display_data"
    }
   ],
   "source": [
    "import numpy as np\n",
    "\n",
    "import matplotlib.pyplot as plt\n",
    "\n",
    "def softmax(x):\n",
    "\n",
    "    y = np.exp(x - np.max(x))\n",
    "    f_x = y / np.sum(np.exp(x))\n",
    "    return f_x\n",
    "\n",
    "class TwoNomal():\n",
    "    def __init__(self,mu1,mu2,sigma1,sigma2):\n",
    "        self.mu1 = mu1\n",
    "        self.sigma1 = sigma1\n",
    "        self.mu2 = mu2\n",
    "        self.sigma2 = sigma2\n",
    "    def doubledensity(self,x):\n",
    "            mu1 = self.mu1\n",
    "            sigma1 = self.sigma1\n",
    "            mu2 = self.mu2\n",
    "            sigma2 = self.sigma1\n",
    "            N1 = np.sqrt(2 * np.pi * np.power(sigma1, 2))\n",
    "            fac1 = np.power(x - mu1, 2) / np.power(sigma1, 2)\n",
    "            density1=np.exp(-fac1/2)/N1\n",
    "\n",
    "            N2 = np.sqrt(2 * np.pi * np.power(sigma2, 2))\n",
    "            fac2 = np.power(x - mu2, 2) / np.power(sigma2, 2)\n",
    "            density2=np.exp(-fac2/2)/N2\n",
    "            #print(density1,density2)\n",
    "            density=0.5*density2+0.3*density1\n",
    "            return density\n",
    "\n",
    "\n",
    "N2 = TwoNomal(25,75,10,10)\n",
    "N3 = TwoNomal(50,50,15,20)\n",
    "N4 = TwoNomal(25,74,15,15)\n",
    "\n",
    "#创建等差数列作为X\n",
    "X = np.arange(0,100,2)\n",
    "#print(X)\n",
    "Y = N2.doubledensity(X)\n",
    "\n",
    "# Y += 0.0005*np.random.rand(50)\n",
    "Y = Y/sum(Y)\n",
    "\n",
    "Y1 = N3.doubledensity(X)\n",
    "\n",
    "# Y1 += 0.0005*np.random.rand(50)\n",
    "Y1 = Y1/sum(Y1)\n",
    "\n",
    "Y2 = N4.doubledensity(X)\n",
    "\n",
    "# Y2 += 0.0005*np.random.rand(50)\n",
    "Y2 = Y2/sum(Y2)\n",
    "\n",
    "#print(Y)\n",
    "plt.scatter(X,Y)\n",
    "\n",
    "plt.show()\n",
    "\n",
    "plt.scatter(X,Y1)\n",
    "\n",
    "plt.show()\n",
    "\n",
    "plt.scatter(X,Y2)\n",
    "\n",
    "plt.show()"
   ]
  },
  {
   "cell_type": "code",
   "execution_count": 2,
   "id": "43658185",
   "metadata": {},
   "outputs": [
    {
     "name": "stdout",
     "output_type": "stream",
     "text": [
      "Parameter containing:\n",
      "tensor([0.7576, 0.2793, 0.4031, 0.7347, 0.0293, 0.7999, 0.3971, 0.7544, 0.5695,\n",
      "        0.4388, 0.6387, 0.5247, 0.6826, 0.3051, 0.4635, 0.4550, 0.5725, 0.4980,\n",
      "        0.9371, 0.6556, 0.3138, 0.1980, 0.4162, 0.2843, 0.3398, 0.5239, 0.7981,\n",
      "        0.7718, 0.0112, 0.8100, 0.6397, 0.9743, 0.8300, 0.0444, 0.0246, 0.2588,\n",
      "        0.9391, 0.4167, 0.7140, 0.2676, 0.9906, 0.2885, 0.8750, 0.5059, 0.2366,\n",
      "        0.7570, 0.2346, 0.6471, 0.3556, 0.4452], dtype=torch.float64,\n",
      "       requires_grad=True)\n"
     ]
    },
    {
     "name": "stderr",
     "output_type": "stream",
     "text": [
      "100%|██████████| 1/1 [00:00<00:00, 51.37it/s]\n",
      "/usr/local/lib/python3.6/site-packages/ipykernel_launcher.py:62: UserWarning: Implicit dimension choice for softmax has been deprecated. Change the call to include dim=X as an argument.\n",
      "100%|██████████| 1/1 [00:00<00:00, 1079.89it/s]\n",
      "/usr/local/lib/python3.6/site-packages/ipykernel_launcher.py:67: UserWarning: Implicit dimension choice for softmax has been deprecated. Change the call to include dim=X as an argument.\n"
     ]
    },
    {
     "name": "stdout",
     "output_type": "stream",
     "text": [
      "Parameter containing:\n",
      "tensor([0.0193, 0.2616, 0.7713, 0.3785, 0.9980, 0.9008, 0.4766, 0.1663, 0.8045,\n",
      "        0.6552, 0.1768, 0.8248, 0.8036, 0.9434, 0.2197, 0.4177, 0.4903, 0.5730,\n",
      "        0.1205, 0.1452, 0.7720, 0.3828, 0.7442, 0.5285, 0.6642, 0.6099, 0.6818,\n",
      "        0.7479, 0.0369, 0.7517, 0.1484, 0.1227, 0.5304, 0.4148, 0.7937, 0.2104,\n",
      "        0.0555, 0.8639, 0.4259, 0.7812, 0.6607, 0.1251, 0.6004, 0.6201, 0.1652,\n",
      "        0.2628, 0.6705, 0.5896, 0.2873, 0.3486], dtype=torch.float64,\n",
      "       requires_grad=True)\n"
     ]
    },
    {
     "name": "stderr",
     "output_type": "stream",
     "text": [
      "100%|██████████| 1/1 [00:00<00:00, 817.13it/s]\n",
      "/usr/local/lib/python3.6/site-packages/ipykernel_launcher.py:86: UserWarning: Implicit dimension choice for softmax has been deprecated. Change the call to include dim=X as an argument.\n",
      "100%|██████████| 1/1 [00:00<00:00, 953.90it/s]\n",
      "/usr/local/lib/python3.6/site-packages/ipykernel_launcher.py:91: UserWarning: Implicit dimension choice for softmax has been deprecated. Change the call to include dim=X as an argument.\n"
     ]
    },
    {
     "name": "stdout",
     "output_type": "stream",
     "text": [
      "Parameter containing:\n",
      "tensor([0.9579, 0.4075, 0.7819, 0.7165, 0.1768, 0.0748, 0.9799, 0.5261, 0.8427,\n",
      "        0.6036, 0.6608, 0.8735, 0.9741, 0.1682, 0.5625, 0.8731, 0.8622, 0.8106,\n",
      "        0.1381, 0.1399, 0.1976, 0.5628, 0.9983, 0.1842, 0.7664, 0.2233, 0.0299,\n",
      "        0.3937, 0.7881, 0.9642, 0.1895, 0.6085, 0.9314, 0.8313, 0.8116, 0.8553,\n",
      "        0.8163, 0.6291, 0.1581, 0.0801, 0.2709, 0.4418, 0.1935, 0.6829, 0.6547,\n",
      "        0.3868, 0.6922, 0.6616, 0.8053, 0.8367], dtype=torch.float64,\n",
      "       requires_grad=True)\n"
     ]
    },
    {
     "name": "stderr",
     "output_type": "stream",
     "text": [
      "100%|██████████| 1/1 [00:00<00:00, 1045.18it/s]\n",
      "/usr/local/lib/python3.6/site-packages/ipykernel_launcher.py:111: UserWarning: Implicit dimension choice for softmax has been deprecated. Change the call to include dim=X as an argument.\n",
      "100%|██████████| 1/1 [00:00<00:00, 1316.89it/s]\n",
      "/usr/local/lib/python3.6/site-packages/ipykernel_launcher.py:116: UserWarning: Implicit dimension choice for softmax has been deprecated. Change the call to include dim=X as an argument.\n"
     ]
    }
   ],
   "source": [
    "import torch\n",
    "import torch.nn as nn\n",
    "import torch.nn.functional as F\n",
    "import torch.optim as optim\n",
    "import copy\n",
    "from tqdm import tqdm, trange\n",
    "\n",
    "torch.manual_seed(1)\n",
    "class FR_KL(nn.Module):\n",
    "    def __init__(self, k):\n",
    "        super(FR_KL, self).__init__()\n",
    "        self.q = nn.Parameter(torch.rand(k).to(float))\n",
    "        torch.unsqueeze(self.q, 0)\n",
    "#         self.q = nn.Parameter(torch.tensor([[-2.1,-4.2,-3.6,-2.0],[-5.3,-3.0,-4.1,-2.1]]))\n",
    "        \n",
    "    def set_q(self, q_bake):\n",
    "        self.q = nn.Parameter(copy.deepcopy(q_bake))\n",
    "\n",
    "    def forward(self, p, f):\n",
    "        # forward \n",
    "        if f==\"f\":\n",
    "            qq = F.log_softmax(self.q, dim=-1)\n",
    "            return F.kl_div(qq,p.log(),log_target=True,reduction=\"batchmean\") \n",
    "        elif f==\"r\": #reverse\n",
    "            qq = F.log_softmax(self.q, dim=-1)\n",
    "            return F.kl_div(p.log(),qq,log_target=True, reduction=\"batchmean\") \n",
    "        elif f==\"fr\": #reverse\n",
    "            qq = F.log_softmax(self.q, dim=-1)\n",
    "            return 0.5*F.kl_div(qq,p.log(),log_target=True,reduction=\"batchmean\") +0.5*F.kl_div(p.log(),qq,log_target=True, reduction=\"batchmean\") \n",
    "    \n",
    "\n",
    "def learn(p, flag, N=1):\n",
    "    optimizer = optim.Adam(A.parameters(), lr=0.1)#, weight_decay=0.1)\n",
    "    result = []\n",
    "    for i in trange(N):\n",
    "        loss = A(p,flag)\n",
    "        optimizer.zero_grad()\n",
    "        loss.backward()\n",
    "        optimizer.step()\n",
    "        result.append(loss.item())\n",
    "    del optimizer\n",
    "    return result\n",
    "\n",
    "# class_K = 1000\n",
    "# p = (torch.rand((128, class_K))*2-1)\n",
    "# p = nn.Parameter(torch.tensor([[-1.4,-3.0,-2.2,-4.0],[-1.4,-3.0,-2.4,-1.2]]))\n",
    "\n",
    "p = nn.Parameter(torch.from_numpy(Y)).to(float)\n",
    "torch.unsqueeze(p, 0)\n",
    "p.requires_grad = False\n",
    "\n",
    "A = FR_KL(p.size()[-1])\n",
    "\n",
    "q = copy.deepcopy(A.q)\n",
    "print(q)\n",
    "p1 = copy.deepcopy(p)\n",
    "p2 = copy.deepcopy(p)\n",
    "p3 = copy.deepcopy(p)\n",
    "\n",
    "\n",
    "res1=learn(p1, \"f\")\n",
    "q1 = F.softmax(A.q).detach().numpy()\n",
    "\n",
    "A.set_q(q)\n",
    "\n",
    "res2=learn(p2, \"r\")\n",
    "q2 = F.softmax(A.q).detach().numpy()\n",
    "\n",
    "A.set_q(q)\n",
    "\n",
    "# repeat\n",
    "p = nn.Parameter(torch.from_numpy(Y1)).to(float)\n",
    "torch.unsqueeze(p, 0)\n",
    "p.requires_grad = False\n",
    "\n",
    "A = FR_KL(p.size()[-1])\n",
    "\n",
    "q = copy.deepcopy(A.q)\n",
    "print(q)\n",
    "p1 = copy.deepcopy(p)\n",
    "p2 = copy.deepcopy(p)\n",
    "p3 = copy.deepcopy(p)\n",
    "\n",
    "\n",
    "res1=learn(p1, \"f\")\n",
    "q4 = F.softmax(A.q).detach().numpy()\n",
    "\n",
    "A.set_q(q)\n",
    "\n",
    "res2=learn(p2, \"r\")\n",
    "q5 = F.softmax(A.q).detach().numpy()\n",
    "\n",
    "A.set_q(q)\n",
    "\n",
    "\n",
    "# repeat\n",
    "p = nn.Parameter(torch.from_numpy(Y2)).to(float)\n",
    "torch.unsqueeze(p, 0)\n",
    "p.requires_grad = False\n",
    "\n",
    "A = FR_KL(p.size()[-1])\n",
    "\n",
    "q = copy.deepcopy(A.q)\n",
    "print(q)\n",
    "p1 = copy.deepcopy(p)\n",
    "p2 = copy.deepcopy(p)\n",
    "p3 = copy.deepcopy(p)\n",
    "\n",
    "\n",
    "res1=learn(p1, \"f\")\n",
    "q7 = F.softmax(A.q).detach().numpy()\n",
    "\n",
    "A.set_q(q)\n",
    "\n",
    "res2=learn(p2, \"r\")\n",
    "q8 = F.softmax(A.q).detach().numpy()\n",
    "\n",
    "A.set_q(q)\n",
    "\n",
    "\n"
   ]
  },
  {
   "cell_type": "code",
   "execution_count": 3,
   "id": "4d1f3c53",
   "metadata": {},
   "outputs": [
    {
     "name": "stdout",
     "output_type": "stream",
     "text": [
      "Parameter containing:\n",
      "tensor([0.3307, 0.9885, 0.4422, 0.4828, 0.0281, 0.1782, 0.2079, 0.2861, 0.8555,\n",
      "        0.3366, 0.1264, 0.6924, 0.6601, 0.8238, 0.2413, 0.6084, 0.3180, 0.3877,\n",
      "        0.1015, 0.2721, 0.3469, 0.7138, 0.5913, 0.6235, 0.9991, 0.9873, 0.8410,\n",
      "        0.5159, 0.1541, 0.8908, 0.3750, 0.4596, 0.0693, 0.4012, 0.1775, 0.9595,\n",
      "        0.0677, 0.1103, 0.4830, 0.2296, 0.6789, 0.3075, 0.2652, 0.5283, 0.8619,\n",
      "        0.1483, 0.7348, 0.8212, 0.9891, 0.1500], dtype=torch.float64,\n",
      "       requires_grad=True)\n"
     ]
    },
    {
     "name": "stderr",
     "output_type": "stream",
     "text": [
      "100%|██████████| 200/200 [00:00<00:00, 4011.48it/s]\n",
      "/usr/local/lib/python3.6/site-packages/ipykernel_launcher.py:31: UserWarning: Implicit dimension choice for softmax has been deprecated. Change the call to include dim=X as an argument.\n",
      "100%|██████████| 200/200 [00:00<00:00, 4134.72it/s]\n",
      "/usr/local/lib/python3.6/site-packages/ipykernel_launcher.py:36: UserWarning: Implicit dimension choice for softmax has been deprecated. Change the call to include dim=X as an argument.\n"
     ]
    },
    {
     "name": "stdout",
     "output_type": "stream",
     "text": [
      "Parameter containing:\n",
      "tensor([0.6211, 0.1303, 0.9269, 0.3060, 0.8012, 0.5149, 0.4611, 0.4840, 0.5850,\n",
      "        0.7357, 0.5802, 0.6525, 0.0502, 0.8643, 0.9359, 0.9133, 0.8696, 0.1392,\n",
      "        0.3146, 0.9409, 0.1192, 0.9536, 0.1068, 0.1478, 0.7444, 0.1408, 0.3854,\n",
      "        0.8637, 0.8960, 0.9729, 0.3985, 0.1114, 0.9923, 0.3935, 0.2943, 0.6219,\n",
      "        0.1503, 0.8286, 0.8134, 0.1033, 0.0893, 0.4562, 0.7100, 0.4855, 0.2465,\n",
      "        0.5114, 0.0300, 0.1466, 0.1672, 0.9118], dtype=torch.float64,\n",
      "       requires_grad=True)\n"
     ]
    },
    {
     "name": "stderr",
     "output_type": "stream",
     "text": [
      "100%|██████████| 200/200 [00:00<00:00, 4016.55it/s]\n",
      "/usr/local/lib/python3.6/site-packages/ipykernel_launcher.py:55: UserWarning: Implicit dimension choice for softmax has been deprecated. Change the call to include dim=X as an argument.\n",
      "100%|██████████| 200/200 [00:00<00:00, 4004.01it/s]\n",
      "/usr/local/lib/python3.6/site-packages/ipykernel_launcher.py:60: UserWarning: Implicit dimension choice for softmax has been deprecated. Change the call to include dim=X as an argument.\n"
     ]
    },
    {
     "name": "stdout",
     "output_type": "stream",
     "text": [
      "Parameter containing:\n",
      "tensor([0.9408, 0.3302, 0.5224, 0.7230, 0.5599, 0.2496, 0.7884, 0.8074, 0.4710,\n",
      "        0.4384, 0.9544, 0.9371, 0.2165, 0.9892, 0.6237, 0.1679, 0.7737, 0.1267,\n",
      "        0.9620, 0.1786, 0.6414, 0.6523, 0.6189, 0.9147, 0.2923, 0.2889, 0.0667,\n",
      "        0.4795, 0.2631, 0.5200, 0.3975, 0.6659, 0.9325, 0.6475, 0.3389, 0.2547,\n",
      "        0.0639, 0.9207, 0.4053, 0.6009, 0.5185, 0.1814, 0.7816, 0.7802, 0.5252,\n",
      "        0.2159, 0.2875, 0.5069, 0.2143, 0.2210], dtype=torch.float64,\n",
      "       requires_grad=True)\n"
     ]
    },
    {
     "name": "stderr",
     "output_type": "stream",
     "text": [
      "100%|██████████| 200/200 [00:00<00:00, 4038.38it/s]\n",
      "/usr/local/lib/python3.6/site-packages/ipykernel_launcher.py:80: UserWarning: Implicit dimension choice for softmax has been deprecated. Change the call to include dim=X as an argument.\n",
      "100%|██████████| 200/200 [00:00<00:00, 4025.22it/s]\n",
      "/usr/local/lib/python3.6/site-packages/ipykernel_launcher.py:85: UserWarning: Implicit dimension choice for softmax has been deprecated. Change the call to include dim=X as an argument.\n"
     ]
    }
   ],
   "source": [
    "def learn(p, flag, N=200):\n",
    "    optimizer = optim.Adam(A.parameters(), lr=0.1)#, weight_decay=0.1)\n",
    "    result = []\n",
    "    for i in trange(N):\n",
    "        loss = A(p,flag)\n",
    "        optimizer.zero_grad()\n",
    "        loss.backward()\n",
    "        optimizer.step()\n",
    "        result.append(loss.item())\n",
    "    del optimizer\n",
    "    return result\n",
    "\n",
    "# class_K = 1000\n",
    "# p = (torch.rand((128, class_K))*2-1)\n",
    "# p = nn.Parameter(torch.tensor([[-1.4,-3.0,-2.2,-4.0],[-1.4,-3.0,-2.4,-1.2]]))\n",
    "\n",
    "p = nn.Parameter(torch.from_numpy(Y)).to(float)\n",
    "torch.unsqueeze(p, 0)\n",
    "p.requires_grad = False\n",
    "\n",
    "A = FR_KL(p.size()[-1])\n",
    "\n",
    "q = copy.deepcopy(A.q)\n",
    "print(q)\n",
    "p1 = copy.deepcopy(p)\n",
    "p2 = copy.deepcopy(p)\n",
    "p3 = copy.deepcopy(p)\n",
    "\n",
    "\n",
    "res1=learn(p1, \"f\")\n",
    "q11 = F.softmax(A.q).detach().numpy()\n",
    "\n",
    "A.set_q(q)\n",
    "\n",
    "res2=learn(p2, \"r\")\n",
    "q21 = F.softmax(A.q).detach().numpy()\n",
    "\n",
    "A.set_q(q)\n",
    "\n",
    "# repeat\n",
    "p = nn.Parameter(torch.from_numpy(Y1)).to(float)\n",
    "torch.unsqueeze(p, 0)\n",
    "p.requires_grad = False\n",
    "\n",
    "A = FR_KL(p.size()[-1])\n",
    "\n",
    "q = copy.deepcopy(A.q)\n",
    "print(q)\n",
    "p1 = copy.deepcopy(p)\n",
    "p2 = copy.deepcopy(p)\n",
    "p3 = copy.deepcopy(p)\n",
    "\n",
    "\n",
    "res1=learn(p1, \"f\")\n",
    "q41 = F.softmax(A.q).detach().numpy()\n",
    "\n",
    "A.set_q(q)\n",
    "\n",
    "res2=learn(p2, \"r\")\n",
    "q51 = F.softmax(A.q).detach().numpy()\n",
    "\n",
    "A.set_q(q)\n",
    "\n",
    "\n",
    "# repeat\n",
    "p = nn.Parameter(torch.from_numpy(Y2)).to(float)\n",
    "torch.unsqueeze(p, 0)\n",
    "p.requires_grad = False\n",
    "\n",
    "A = FR_KL(p.size()[-1])\n",
    "\n",
    "q = copy.deepcopy(A.q)\n",
    "print(q)\n",
    "p1 = copy.deepcopy(p)\n",
    "p2 = copy.deepcopy(p)\n",
    "p3 = copy.deepcopy(p)\n",
    "\n",
    "\n",
    "res1=learn(p1, \"f\")\n",
    "q71 = F.softmax(A.q).detach().numpy()\n",
    "\n",
    "A.set_q(q)\n",
    "\n",
    "res2=learn(p2, \"r\")\n",
    "q81 = F.softmax(A.q).detach().numpy()\n",
    "\n",
    "A.set_q(q)\n"
   ]
  },
  {
   "cell_type": "code",
   "execution_count": 4,
   "id": "88ce18d6",
   "metadata": {},
   "outputs": [
    {
     "data": {
      "text/plain": [
       "array([0.01098777, 0.01400039, 0.02330789, 0.01573578, 0.02923887,\n",
       "       0.0265298 , 0.01735818, 0.01272713, 0.02409384, 0.02075224,\n",
       "       0.01286191, 0.02458774, 0.02407146, 0.0276859 , 0.01639832,\n",
       "       0.0199885 , 0.02149412, 0.02334764, 0.01485017, 0.01522075,\n",
       "       0.02848769, 0.01930231, 0.02770762, 0.02233101, 0.02557572,\n",
       "       0.02422573, 0.02603055, 0.02780807, 0.01365923, 0.02791449,\n",
       "       0.01527029, 0.01488295, 0.02237348, 0.01993078, 0.02385063,\n",
       "       0.01624683, 0.01391508, 0.02556849, 0.01649966, 0.02354008,\n",
       "       0.02086803, 0.01221349, 0.019647  , 0.02003686, 0.01271392,\n",
       "       0.01401657, 0.02107237, 0.01943424, 0.01436493, 0.01527348])"
      ]
     },
     "execution_count": 4,
     "metadata": {},
     "output_type": "execute_result"
    }
   ],
   "source": [
    "q4"
   ]
  },
  {
   "cell_type": "code",
   "execution_count": 5,
   "id": "a52d1ecf",
   "metadata": {},
   "outputs": [
    {
     "data": {
      "image/png": "[encoded data removed]",
      "text/plain": [
       "<Figure size 432x288 with 1 Axes>"
      ]
     },
     "metadata": {
      "needs_background": "light"
     },
     "output_type": "display_data"
    }
   ],
   "source": [
    "import matplotlib.pyplot as plt\n",
    "\n",
    "# plt.figure(figsize=(19,8), dpi=120)\n",
    "plt.figure()\n",
    "plt.plot(res1[:], label=\"f\")\n",
    "plt.plot(res2[:], label=\"r\")\n",
    "# plt.plot(res3[:], label=\"fr\")\n",
    "# plt.plot(res3[:10], label=\"mix\")\n",
    "\n",
    "plt.legend()\n",
    "plt.show()\n",
    "\n",
    "# print(res1[:50], res2[:50])\n",
    "# print(res1[250:300])"
   ]
  },
  {
   "cell_type": "code",
   "execution_count": 113,
   "id": "96fd6723",
   "metadata": {},
   "outputs": [
    {
     "data": {
      "image/png": "[encoded data removed]",
      "text/plain": [
       "<Figure size 2000x400 with 4 Axes>"
      ]
     },
     "metadata": {},
     "output_type": "display_data"
    }
   ],
   "source": [
    "import matplotlib as mpl\n",
    "import matplotlib.font_manager as font_manager\n",
    "\n",
    "\n",
    "X = np.arange(0,len(X), 1)\n",
    "ss=20\n",
    "\n",
    "fig, axs = plt.subplots(1,4, figsize=(10,2), dpi=200)\n",
    "\n",
    "\n",
    "axs[0].scatter(X,Y,  c='#1f77b4', marker='.', s=ss)\n",
    "axs[0].scatter(X,q1, c='#ff7f0e', marker='.', s=ss)\n",
    "axs[0].scatter(X,q2, c='#2ca02c', marker='.', s=ss)\n",
    "\n",
    "axs[0].set_ylabel(\"Probability\")\n",
    "# axs[0,0].set_ylim([0.0,0.035])\n",
    "# axs[0].set_xlim([0,10])\n",
    "axs[0].set_title(\"Epoch 1\",weight='bold')\n",
    "axs[0].set_xticks([])\n",
    "axs[0].set_yticks([])\n",
    "# axs[0].legend()\n",
    "\n",
    "\n",
    "\n",
    "axs[2].scatter(X,Y1,  c='#1f77b4', marker='.', s=ss)\n",
    "axs[2].scatter(X,q4, c='#ff7f0e', marker='.', s=ss)\n",
    "axs[2].scatter(X,q5, c='#2ca02c', marker='.', s=ss)\n",
    "\n",
    "axs[2].set_ylabel(\"Probability\")\n",
    "# axs[1].set_ylim([-0.001,0.03])\n",
    "# axs[0,1].set_ylim([0.0,0.03])\n",
    "axs[2].set_title(\"Epoch 1\",weight='bold')\n",
    "axs[2].set_xticks([])\n",
    "axs[2].set_yticks([])\n",
    "# axs[1].legend()\n",
    "\n",
    "# axs[0,2].scatter(X,Y2,  c='#1f77b4', marker='.', s=ss)\n",
    "# axs[0,2].scatter(X,q7, c='#ff7f0e', marker='.', s=ss)\n",
    "# axs[0,2].scatter(X,q8, c='#2ca02c', marker='.', s=ss)\n",
    "\n",
    "axs[2].set_ylabel(\"Probability\")\n",
    "# # axs[2].set_ylim([0.03,0.042])\n",
    "# axs[0,2].set_xlabel(\" \")\n",
    "# axs[2].legend()\n",
    "\n",
    "#\n",
    "axs[1].scatter(X,Y,  c='#1f77b4', marker='.', s=ss)\n",
    "axs[1].scatter(X,q11, c='#ff7f0e', marker='.', s=ss)\n",
    "axs[1].scatter(X,q21, c='#2ca02c', marker='.', s=ss)\n",
    "\n",
    "axs[1].set_ylabel(\"Probability\")\n",
    "# axs[0].set_ylim([0.0,0.01])\n",
    "# axs[0].set_xlim([0,10])\n",
    "# axs[1].set_xlabel(\"\\n\")\n",
    "axs[1].set_title(\"Epoch 200\",weight='bold')\n",
    "axs[1].set_xticks([])\n",
    "axs[1].set_yticks([])\n",
    "# axs[0].legend()\n",
    "\n",
    "axs[3].scatter(X,Y1,  c='#1f77b4', marker='.', s=ss)\n",
    "axs[3].scatter(X,q41, c='#ff7f0e', marker='.', s=ss)\n",
    "axs[3].scatter(X,q51, c='#2ca02c', marker='.', s=ss)\n",
    "\n",
    "# axs[3].set_ylabel(\"Probability\")\n",
    "# axs[1].set_ylim([-0.001,0.03])\n",
    "# axs[1].set_ylim([0.0,0.01])\n",
    "# axs[1].set_xlabel(\"X\")\n",
    "axs[3].set_title(\"Epoch 200\",weight='bold')\n",
    "axs[3].set_xticks([])\n",
    "axs[3].set_yticks([])\n",
    "# axs[1].legend()\n",
    "\n",
    "# axs[1,2].scatter(X,Y2,  c='#1f77b4', marker='.', s=ss)\n",
    "# axs[1,2].scatter(X,q71, c='#ff7f0e', marker='.', s=ss)\n",
    "# axs[1,2].scatter(X,q81, c='#2ca02c', marker='.', s=ss)\n",
    "\n",
    "# axs[1,2].set_ylabel(\"Probability\")\n",
    "# # axs[2].set_ylim([0.03,0.042])\n",
    "# axs[1,2].set_xlabel(\" \")\n",
    "# # axs[2].legend()\n",
    "font = font_manager.FontProperties(weight='bold',style='normal', size=9)\n",
    "\n",
    "# fig.legend(loc='best')\n",
    "legendEntries = (\"Teacher\",\"FKL\",\"RKL\")\n",
    "# set figure legend entries, number of columns, location\n",
    "fig.legend(legendEntries,ncol=len(legendEntries),loc=8, prop=font)\n",
    "\n",
    "# fig.suptitle(\"Epoch 50\")\n",
    "# plt.tight_layout()\n",
    "\n",
    "plt.savefig(\"epoch_1_200_v3.pdf\")\n",
    "plt.show()"
   ]
  },
  {
   "cell_type": "code",
   "execution_count": null,
   "id": "6aa66f41",
   "metadata": {},
   "outputs": [],
   "source": []
  },
  {
   "cell_type": "code",
   "execution_count": null,
   "id": "559ad838",
   "metadata": {},
   "outputs": [],
   "source": []
  }
 ],
 "metadata": {
  "kernelspec": {
   "display_name": "Python 3",
   "language": "python",
   "name": "python3"
  },
  "language_info": {
   "codemirror_mode": {
    "name": "ipython",
    "version": 3
   },
   "file_extension": ".py",
   "mimetype": "text/x-python",
   "name": "python",
   "nbconvert_exporter": "python",
   "pygments_lexer": "ipython3",
   "version": "3.6.8"
  }
 },
 "nbformat": 4,
 "nbformat_minor": 5
}
